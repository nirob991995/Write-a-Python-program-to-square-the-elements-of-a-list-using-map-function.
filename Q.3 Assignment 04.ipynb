{
 "cells": [
  {
   "cell_type": "markdown",
   "id": "cf3c5a96",
   "metadata": {},
   "source": [
    "## Write a Python program to square the elements of a list using map() function.\n",
    "\n",
    "Sample List: [4, 5, 2, 9]\n",
    "\n",
    "Square the elements of the list:\n",
    "\n",
    "[16, 25, 4, 81]"
   ]
  },
  {
   "cell_type": "code",
   "execution_count": 1,
   "id": "7bff1456",
   "metadata": {},
   "outputs": [
    {
     "name": "stdout",
     "output_type": "stream",
     "text": [
      "Enter either numbers separated by comma or a lists :- [4,5,2,9]\n",
      "sample list :  [4, 5, 2, 9]\n",
      "Triple of list numbers :  [16, 25, 4, 81]\n"
     ]
    }
   ],
   "source": [
    "# approach 1\n",
    "# using map function to square the elements of a list.\n",
    "from ast import literal_eval\n",
    "                                                                \n",
    "lists = list(literal_eval(input(\"Enter either numbers separated by comma or a lists :- \")))\n",
    "square_no = list(map(lambda x : x**2, lists))      # using lambda function with one bound variable inside map()\n",
    "print(\"sample list : \", lists)\n",
    "print(\"Triple of list numbers : \", square_no)   # printing out of the input list items"
   ]
  },
  {
   "cell_type": "code",
   "execution_count": 2,
   "id": "5fe8dc53",
   "metadata": {},
   "outputs": [
    {
     "name": "stdout",
     "output_type": "stream",
     "text": [
      "Enter either numbers separated by comma or a lists :- 4,5,2,9\n",
      "sample list :  [4, 5, 2, 9]\n",
      "Triple of list numbers :  [16, 25, 4, 81]\n"
     ]
    }
   ],
   "source": [
    "# approach 2\n",
    "# using user define function \n",
    " # using map function to square the elements of a list\n",
    "from ast import literal_eval\n",
    "\n",
    "def fun(number):\n",
    "    n = number**2\n",
    "    return n\n",
    "                                                    \n",
    "lists = list(literal_eval(input(\"Enter either numbers separated by comma or a lists :- \")))\n",
    "square_no = list(map(fun, lists))         \n",
    "print(\"sample list : \", lists)               \n",
    "print(\"Triple of list numbers : \", square_no)       # printing out of the input list items\n"
   ]
  },
  {
   "cell_type": "code",
   "execution_count": null,
   "id": "44350e3a",
   "metadata": {},
   "outputs": [],
   "source": []
  },
  {
   "cell_type": "code",
   "execution_count": null,
   "id": "44c675df",
   "metadata": {},
   "outputs": [],
   "source": []
  }
 ],
 "metadata": {
  "kernelspec": {
   "display_name": "Python 3 (ipykernel)",
   "language": "python",
   "name": "python3"
  },
  "language_info": {
   "codemirror_mode": {
    "name": "ipython",
    "version": 3
   },
   "file_extension": ".py",
   "mimetype": "text/x-python",
   "name": "python",
   "nbconvert_exporter": "python",
   "pygments_lexer": "ipython3",
   "version": "3.8.9"
  }
 },
 "nbformat": 4,
 "nbformat_minor": 5
}
